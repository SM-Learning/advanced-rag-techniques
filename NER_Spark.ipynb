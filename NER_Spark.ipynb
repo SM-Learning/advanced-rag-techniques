{
  "nbformat": 4,
  "nbformat_minor": 0,
  "metadata": {
    "colab": {
      "provenance": [],
      "authorship_tag": "ABX9TyM3zCZqb9wedHABKT2W++Lg",
      "include_colab_link": true
    },
    "kernelspec": {
      "name": "python3",
      "display_name": "Python 3"
    },
    "language_info": {
      "name": "python"
    },
    "widgets": {
      "application/vnd.jupyter.widget-state+json": {
        "1eb8cc312bc84bc2a40e10ed1bb40003": {
          "model_module": "@jupyter-widgets/controls",
          "model_name": "HBoxModel",
          "model_module_version": "1.5.0",
          "state": {
            "_dom_classes": [],
            "_model_module": "@jupyter-widgets/controls",
            "_model_module_version": "1.5.0",
            "_model_name": "HBoxModel",
            "_view_count": null,
            "_view_module": "@jupyter-widgets/controls",
            "_view_module_version": "1.5.0",
            "_view_name": "HBoxView",
            "box_style": "",
            "children": [
              "IPY_MODEL_eea3335ecd3b43e3a150d953941de20c",
              "IPY_MODEL_cfd062fb1064443fa986fc0524caf998",
              "IPY_MODEL_6b565bcb1e984610bdb01cf71b16ae08"
            ],
            "layout": "IPY_MODEL_7616a7098b50414a8e61bee466737815"
          }
        },
        "eea3335ecd3b43e3a150d953941de20c": {
          "model_module": "@jupyter-widgets/controls",
          "model_name": "HTMLModel",
          "model_module_version": "1.5.0",
          "state": {
            "_dom_classes": [],
            "_model_module": "@jupyter-widgets/controls",
            "_model_module_version": "1.5.0",
            "_model_name": "HTMLModel",
            "_view_count": null,
            "_view_module": "@jupyter-widgets/controls",
            "_view_module_version": "1.5.0",
            "_view_name": "HTMLView",
            "description": "",
            "description_tooltip": null,
            "layout": "IPY_MODEL_7826deaf7db442b695aab71631e92fe3",
            "placeholder": "​",
            "style": "IPY_MODEL_f8bfd4e348d24c989916f9a0828240f3",
            "value": "Fetching 10 files: 100%"
          }
        },
        "cfd062fb1064443fa986fc0524caf998": {
          "model_module": "@jupyter-widgets/controls",
          "model_name": "FloatProgressModel",
          "model_module_version": "1.5.0",
          "state": {
            "_dom_classes": [],
            "_model_module": "@jupyter-widgets/controls",
            "_model_module_version": "1.5.0",
            "_model_name": "FloatProgressModel",
            "_view_count": null,
            "_view_module": "@jupyter-widgets/controls",
            "_view_module_version": "1.5.0",
            "_view_name": "ProgressView",
            "bar_style": "success",
            "description": "",
            "description_tooltip": null,
            "layout": "IPY_MODEL_f4db3a9aa15244a0b6fadcf5cc6044e7",
            "max": 10,
            "min": 0,
            "orientation": "horizontal",
            "style": "IPY_MODEL_74a108dd8b3a4605a5745209c96ba0a1",
            "value": 10
          }
        },
        "6b565bcb1e984610bdb01cf71b16ae08": {
          "model_module": "@jupyter-widgets/controls",
          "model_name": "HTMLModel",
          "model_module_version": "1.5.0",
          "state": {
            "_dom_classes": [],
            "_model_module": "@jupyter-widgets/controls",
            "_model_module_version": "1.5.0",
            "_model_name": "HTMLModel",
            "_view_count": null,
            "_view_module": "@jupyter-widgets/controls",
            "_view_module_version": "1.5.0",
            "_view_name": "HTMLView",
            "description": "",
            "description_tooltip": null,
            "layout": "IPY_MODEL_56296b3bb54e4afdb8f7c0fe3edba7cc",
            "placeholder": "​",
            "style": "IPY_MODEL_9f21158d457047cf9cdab5a3d6b4e524",
            "value": " 10/10 [00:00&lt;00:00, 313.55it/s]"
          }
        },
        "7616a7098b50414a8e61bee466737815": {
          "model_module": "@jupyter-widgets/base",
          "model_name": "LayoutModel",
          "model_module_version": "1.2.0",
          "state": {
            "_model_module": "@jupyter-widgets/base",
            "_model_module_version": "1.2.0",
            "_model_name": "LayoutModel",
            "_view_count": null,
            "_view_module": "@jupyter-widgets/base",
            "_view_module_version": "1.2.0",
            "_view_name": "LayoutView",
            "align_content": null,
            "align_items": null,
            "align_self": null,
            "border": null,
            "bottom": null,
            "display": null,
            "flex": null,
            "flex_flow": null,
            "grid_area": null,
            "grid_auto_columns": null,
            "grid_auto_flow": null,
            "grid_auto_rows": null,
            "grid_column": null,
            "grid_gap": null,
            "grid_row": null,
            "grid_template_areas": null,
            "grid_template_columns": null,
            "grid_template_rows": null,
            "height": null,
            "justify_content": null,
            "justify_items": null,
            "left": null,
            "margin": null,
            "max_height": null,
            "max_width": null,
            "min_height": null,
            "min_width": null,
            "object_fit": null,
            "object_position": null,
            "order": null,
            "overflow": null,
            "overflow_x": null,
            "overflow_y": null,
            "padding": null,
            "right": null,
            "top": null,
            "visibility": null,
            "width": null
          }
        },
        "7826deaf7db442b695aab71631e92fe3": {
          "model_module": "@jupyter-widgets/base",
          "model_name": "LayoutModel",
          "model_module_version": "1.2.0",
          "state": {
            "_model_module": "@jupyter-widgets/base",
            "_model_module_version": "1.2.0",
            "_model_name": "LayoutModel",
            "_view_count": null,
            "_view_module": "@jupyter-widgets/base",
            "_view_module_version": "1.2.0",
            "_view_name": "LayoutView",
            "align_content": null,
            "align_items": null,
            "align_self": null,
            "border": null,
            "bottom": null,
            "display": null,
            "flex": null,
            "flex_flow": null,
            "grid_area": null,
            "grid_auto_columns": null,
            "grid_auto_flow": null,
            "grid_auto_rows": null,
            "grid_column": null,
            "grid_gap": null,
            "grid_row": null,
            "grid_template_areas": null,
            "grid_template_columns": null,
            "grid_template_rows": null,
            "height": null,
            "justify_content": null,
            "justify_items": null,
            "left": null,
            "margin": null,
            "max_height": null,
            "max_width": null,
            "min_height": null,
            "min_width": null,
            "object_fit": null,
            "object_position": null,
            "order": null,
            "overflow": null,
            "overflow_x": null,
            "overflow_y": null,
            "padding": null,
            "right": null,
            "top": null,
            "visibility": null,
            "width": null
          }
        },
        "f8bfd4e348d24c989916f9a0828240f3": {
          "model_module": "@jupyter-widgets/controls",
          "model_name": "DescriptionStyleModel",
          "model_module_version": "1.5.0",
          "state": {
            "_model_module": "@jupyter-widgets/controls",
            "_model_module_version": "1.5.0",
            "_model_name": "DescriptionStyleModel",
            "_view_count": null,
            "_view_module": "@jupyter-widgets/base",
            "_view_module_version": "1.2.0",
            "_view_name": "StyleView",
            "description_width": ""
          }
        },
        "f4db3a9aa15244a0b6fadcf5cc6044e7": {
          "model_module": "@jupyter-widgets/base",
          "model_name": "LayoutModel",
          "model_module_version": "1.2.0",
          "state": {
            "_model_module": "@jupyter-widgets/base",
            "_model_module_version": "1.2.0",
            "_model_name": "LayoutModel",
            "_view_count": null,
            "_view_module": "@jupyter-widgets/base",
            "_view_module_version": "1.2.0",
            "_view_name": "LayoutView",
            "align_content": null,
            "align_items": null,
            "align_self": null,
            "border": null,
            "bottom": null,
            "display": null,
            "flex": null,
            "flex_flow": null,
            "grid_area": null,
            "grid_auto_columns": null,
            "grid_auto_flow": null,
            "grid_auto_rows": null,
            "grid_column": null,
            "grid_gap": null,
            "grid_row": null,
            "grid_template_areas": null,
            "grid_template_columns": null,
            "grid_template_rows": null,
            "height": null,
            "justify_content": null,
            "justify_items": null,
            "left": null,
            "margin": null,
            "max_height": null,
            "max_width": null,
            "min_height": null,
            "min_width": null,
            "object_fit": null,
            "object_position": null,
            "order": null,
            "overflow": null,
            "overflow_x": null,
            "overflow_y": null,
            "padding": null,
            "right": null,
            "top": null,
            "visibility": null,
            "width": null
          }
        },
        "74a108dd8b3a4605a5745209c96ba0a1": {
          "model_module": "@jupyter-widgets/controls",
          "model_name": "ProgressStyleModel",
          "model_module_version": "1.5.0",
          "state": {
            "_model_module": "@jupyter-widgets/controls",
            "_model_module_version": "1.5.0",
            "_model_name": "ProgressStyleModel",
            "_view_count": null,
            "_view_module": "@jupyter-widgets/base",
            "_view_module_version": "1.2.0",
            "_view_name": "StyleView",
            "bar_color": null,
            "description_width": ""
          }
        },
        "56296b3bb54e4afdb8f7c0fe3edba7cc": {
          "model_module": "@jupyter-widgets/base",
          "model_name": "LayoutModel",
          "model_module_version": "1.2.0",
          "state": {
            "_model_module": "@jupyter-widgets/base",
            "_model_module_version": "1.2.0",
            "_model_name": "LayoutModel",
            "_view_count": null,
            "_view_module": "@jupyter-widgets/base",
            "_view_module_version": "1.2.0",
            "_view_name": "LayoutView",
            "align_content": null,
            "align_items": null,
            "align_self": null,
            "border": null,
            "bottom": null,
            "display": null,
            "flex": null,
            "flex_flow": null,
            "grid_area": null,
            "grid_auto_columns": null,
            "grid_auto_flow": null,
            "grid_auto_rows": null,
            "grid_column": null,
            "grid_gap": null,
            "grid_row": null,
            "grid_template_areas": null,
            "grid_template_columns": null,
            "grid_template_rows": null,
            "height": null,
            "justify_content": null,
            "justify_items": null,
            "left": null,
            "margin": null,
            "max_height": null,
            "max_width": null,
            "min_height": null,
            "min_width": null,
            "object_fit": null,
            "object_position": null,
            "order": null,
            "overflow": null,
            "overflow_x": null,
            "overflow_y": null,
            "padding": null,
            "right": null,
            "top": null,
            "visibility": null,
            "width": null
          }
        },
        "9f21158d457047cf9cdab5a3d6b4e524": {
          "model_module": "@jupyter-widgets/controls",
          "model_name": "DescriptionStyleModel",
          "model_module_version": "1.5.0",
          "state": {
            "_model_module": "@jupyter-widgets/controls",
            "_model_module_version": "1.5.0",
            "_model_name": "DescriptionStyleModel",
            "_view_count": null,
            "_view_module": "@jupyter-widgets/base",
            "_view_module_version": "1.2.0",
            "_view_name": "StyleView",
            "description_width": ""
          }
        },
        "2ee9c136f9ff42fe9e979722d943d7fc": {
          "model_module": "@jupyter-widgets/controls",
          "model_name": "HBoxModel",
          "model_module_version": "1.5.0",
          "state": {
            "_dom_classes": [],
            "_model_module": "@jupyter-widgets/controls",
            "_model_module_version": "1.5.0",
            "_model_name": "HBoxModel",
            "_view_count": null,
            "_view_module": "@jupyter-widgets/controls",
            "_view_module_version": "1.5.0",
            "_view_name": "HBoxView",
            "box_style": "",
            "children": [
              "IPY_MODEL_769c268e82714becb615d23753a10282",
              "IPY_MODEL_8b57e8f71a9a4dbb9c3780b098686574",
              "IPY_MODEL_209d148b4da14cad9d2a8937a8b1ed8d"
            ],
            "layout": "IPY_MODEL_9f6598bc911e46c2930c153ce097fd8b"
          }
        },
        "769c268e82714becb615d23753a10282": {
          "model_module": "@jupyter-widgets/controls",
          "model_name": "HTMLModel",
          "model_module_version": "1.5.0",
          "state": {
            "_dom_classes": [],
            "_model_module": "@jupyter-widgets/controls",
            "_model_module_version": "1.5.0",
            "_model_name": "HTMLModel",
            "_view_count": null,
            "_view_module": "@jupyter-widgets/controls",
            "_view_module_version": "1.5.0",
            "_view_name": "HTMLView",
            "description": "",
            "description_tooltip": null,
            "layout": "IPY_MODEL_9faf42dcda11456fb4389ca7f896cfee",
            "placeholder": "​",
            "style": "IPY_MODEL_d5ae3036f67a4e1da709d2eb0d30773c",
            "value": "Fetching 8 files: 100%"
          }
        },
        "8b57e8f71a9a4dbb9c3780b098686574": {
          "model_module": "@jupyter-widgets/controls",
          "model_name": "FloatProgressModel",
          "model_module_version": "1.5.0",
          "state": {
            "_dom_classes": [],
            "_model_module": "@jupyter-widgets/controls",
            "_model_module_version": "1.5.0",
            "_model_name": "FloatProgressModel",
            "_view_count": null,
            "_view_module": "@jupyter-widgets/controls",
            "_view_module_version": "1.5.0",
            "_view_name": "ProgressView",
            "bar_style": "success",
            "description": "",
            "description_tooltip": null,
            "layout": "IPY_MODEL_02ca62cab784461d81f9820bbf61a034",
            "max": 8,
            "min": 0,
            "orientation": "horizontal",
            "style": "IPY_MODEL_dc09da24f7784e4991c76682697c3288",
            "value": 8
          }
        },
        "209d148b4da14cad9d2a8937a8b1ed8d": {
          "model_module": "@jupyter-widgets/controls",
          "model_name": "HTMLModel",
          "model_module_version": "1.5.0",
          "state": {
            "_dom_classes": [],
            "_model_module": "@jupyter-widgets/controls",
            "_model_module_version": "1.5.0",
            "_model_name": "HTMLModel",
            "_view_count": null,
            "_view_module": "@jupyter-widgets/controls",
            "_view_module_version": "1.5.0",
            "_view_name": "HTMLView",
            "description": "",
            "description_tooltip": null,
            "layout": "IPY_MODEL_7bbf0154ca8f4ba3b0244877e5fa1fdc",
            "placeholder": "​",
            "style": "IPY_MODEL_e33661af09274c81a29dbb6288b81825",
            "value": " 8/8 [00:00&lt;00:00, 305.89it/s]"
          }
        },
        "9f6598bc911e46c2930c153ce097fd8b": {
          "model_module": "@jupyter-widgets/base",
          "model_name": "LayoutModel",
          "model_module_version": "1.2.0",
          "state": {
            "_model_module": "@jupyter-widgets/base",
            "_model_module_version": "1.2.0",
            "_model_name": "LayoutModel",
            "_view_count": null,
            "_view_module": "@jupyter-widgets/base",
            "_view_module_version": "1.2.0",
            "_view_name": "LayoutView",
            "align_content": null,
            "align_items": null,
            "align_self": null,
            "border": null,
            "bottom": null,
            "display": null,
            "flex": null,
            "flex_flow": null,
            "grid_area": null,
            "grid_auto_columns": null,
            "grid_auto_flow": null,
            "grid_auto_rows": null,
            "grid_column": null,
            "grid_gap": null,
            "grid_row": null,
            "grid_template_areas": null,
            "grid_template_columns": null,
            "grid_template_rows": null,
            "height": null,
            "justify_content": null,
            "justify_items": null,
            "left": null,
            "margin": null,
            "max_height": null,
            "max_width": null,
            "min_height": null,
            "min_width": null,
            "object_fit": null,
            "object_position": null,
            "order": null,
            "overflow": null,
            "overflow_x": null,
            "overflow_y": null,
            "padding": null,
            "right": null,
            "top": null,
            "visibility": null,
            "width": null
          }
        },
        "9faf42dcda11456fb4389ca7f896cfee": {
          "model_module": "@jupyter-widgets/base",
          "model_name": "LayoutModel",
          "model_module_version": "1.2.0",
          "state": {
            "_model_module": "@jupyter-widgets/base",
            "_model_module_version": "1.2.0",
            "_model_name": "LayoutModel",
            "_view_count": null,
            "_view_module": "@jupyter-widgets/base",
            "_view_module_version": "1.2.0",
            "_view_name": "LayoutView",
            "align_content": null,
            "align_items": null,
            "align_self": null,
            "border": null,
            "bottom": null,
            "display": null,
            "flex": null,
            "flex_flow": null,
            "grid_area": null,
            "grid_auto_columns": null,
            "grid_auto_flow": null,
            "grid_auto_rows": null,
            "grid_column": null,
            "grid_gap": null,
            "grid_row": null,
            "grid_template_areas": null,
            "grid_template_columns": null,
            "grid_template_rows": null,
            "height": null,
            "justify_content": null,
            "justify_items": null,
            "left": null,
            "margin": null,
            "max_height": null,
            "max_width": null,
            "min_height": null,
            "min_width": null,
            "object_fit": null,
            "object_position": null,
            "order": null,
            "overflow": null,
            "overflow_x": null,
            "overflow_y": null,
            "padding": null,
            "right": null,
            "top": null,
            "visibility": null,
            "width": null
          }
        },
        "d5ae3036f67a4e1da709d2eb0d30773c": {
          "model_module": "@jupyter-widgets/controls",
          "model_name": "DescriptionStyleModel",
          "model_module_version": "1.5.0",
          "state": {
            "_model_module": "@jupyter-widgets/controls",
            "_model_module_version": "1.5.0",
            "_model_name": "DescriptionStyleModel",
            "_view_count": null,
            "_view_module": "@jupyter-widgets/base",
            "_view_module_version": "1.2.0",
            "_view_name": "StyleView",
            "description_width": ""
          }
        },
        "02ca62cab784461d81f9820bbf61a034": {
          "model_module": "@jupyter-widgets/base",
          "model_name": "LayoutModel",
          "model_module_version": "1.2.0",
          "state": {
            "_model_module": "@jupyter-widgets/base",
            "_model_module_version": "1.2.0",
            "_model_name": "LayoutModel",
            "_view_count": null,
            "_view_module": "@jupyter-widgets/base",
            "_view_module_version": "1.2.0",
            "_view_name": "LayoutView",
            "align_content": null,
            "align_items": null,
            "align_self": null,
            "border": null,
            "bottom": null,
            "display": null,
            "flex": null,
            "flex_flow": null,
            "grid_area": null,
            "grid_auto_columns": null,
            "grid_auto_flow": null,
            "grid_auto_rows": null,
            "grid_column": null,
            "grid_gap": null,
            "grid_row": null,
            "grid_template_areas": null,
            "grid_template_columns": null,
            "grid_template_rows": null,
            "height": null,
            "justify_content": null,
            "justify_items": null,
            "left": null,
            "margin": null,
            "max_height": null,
            "max_width": null,
            "min_height": null,
            "min_width": null,
            "object_fit": null,
            "object_position": null,
            "order": null,
            "overflow": null,
            "overflow_x": null,
            "overflow_y": null,
            "padding": null,
            "right": null,
            "top": null,
            "visibility": null,
            "width": null
          }
        },
        "dc09da24f7784e4991c76682697c3288": {
          "model_module": "@jupyter-widgets/controls",
          "model_name": "ProgressStyleModel",
          "model_module_version": "1.5.0",
          "state": {
            "_model_module": "@jupyter-widgets/controls",
            "_model_module_version": "1.5.0",
            "_model_name": "ProgressStyleModel",
            "_view_count": null,
            "_view_module": "@jupyter-widgets/base",
            "_view_module_version": "1.2.0",
            "_view_name": "StyleView",
            "bar_color": null,
            "description_width": ""
          }
        },
        "7bbf0154ca8f4ba3b0244877e5fa1fdc": {
          "model_module": "@jupyter-widgets/base",
          "model_name": "LayoutModel",
          "model_module_version": "1.2.0",
          "state": {
            "_model_module": "@jupyter-widgets/base",
            "_model_module_version": "1.2.0",
            "_model_name": "LayoutModel",
            "_view_count": null,
            "_view_module": "@jupyter-widgets/base",
            "_view_module_version": "1.2.0",
            "_view_name": "LayoutView",
            "align_content": null,
            "align_items": null,
            "align_self": null,
            "border": null,
            "bottom": null,
            "display": null,
            "flex": null,
            "flex_flow": null,
            "grid_area": null,
            "grid_auto_columns": null,
            "grid_auto_flow": null,
            "grid_auto_rows": null,
            "grid_column": null,
            "grid_gap": null,
            "grid_row": null,
            "grid_template_areas": null,
            "grid_template_columns": null,
            "grid_template_rows": null,
            "height": null,
            "justify_content": null,
            "justify_items": null,
            "left": null,
            "margin": null,
            "max_height": null,
            "max_width": null,
            "min_height": null,
            "min_width": null,
            "object_fit": null,
            "object_position": null,
            "order": null,
            "overflow": null,
            "overflow_x": null,
            "overflow_y": null,
            "padding": null,
            "right": null,
            "top": null,
            "visibility": null,
            "width": null
          }
        },
        "e33661af09274c81a29dbb6288b81825": {
          "model_module": "@jupyter-widgets/controls",
          "model_name": "DescriptionStyleModel",
          "model_module_version": "1.5.0",
          "state": {
            "_model_module": "@jupyter-widgets/controls",
            "_model_module_version": "1.5.0",
            "_model_name": "DescriptionStyleModel",
            "_view_count": null,
            "_view_module": "@jupyter-widgets/base",
            "_view_module_version": "1.2.0",
            "_view_name": "StyleView",
            "description_width": ""
          }
        }
      }
    }
  },
  "cells": [
    {
      "cell_type": "markdown",
      "metadata": {
        "id": "view-in-github",
        "colab_type": "text"
      },
      "source": [
        "<a href=\"https://colab.research.google.com/github/SM-Learning/advanced-rag-techniques/blob/main/NER_Spark.ipynb\" target=\"_parent\"><img src=\"https://colab.research.google.com/assets/colab-badge.svg\" alt=\"Open In Colab\"/></a>"
      ]
    },
    {
      "cell_type": "code",
      "execution_count": 2,
      "metadata": {
        "id": "QDCjeYNvTqcI"
      },
      "outputs": [],
      "source": [
        "!pip install -q transformers torch inflect teradatasql pyspark GLiNER"
      ]
    },
    {
      "cell_type": "code",
      "source": [
        "!pip install --upgrade GLiNER\n"
      ],
      "metadata": {
        "collapsed": true,
        "colab": {
          "base_uri": "https://localhost:8080/"
        },
        "id": "SyDhvebMX4su",
        "outputId": "9a1be34d-8e26-4361-afd6-c48c3f3419c3"
      },
      "execution_count": 2,
      "outputs": [
        {
          "output_type": "stream",
          "name": "stdout",
          "text": [
            "Requirement already satisfied: GLiNER in /usr/local/lib/python3.11/dist-packages (0.2.16)\n",
            "Requirement already satisfied: torch>=2.0.0 in /usr/local/lib/python3.11/dist-packages (from GLiNER) (2.5.1+cu124)\n",
            "Requirement already satisfied: transformers>=4.38.2 in /usr/local/lib/python3.11/dist-packages (from GLiNER) (4.48.3)\n",
            "Requirement already satisfied: huggingface_hub>=0.21.4 in /usr/local/lib/python3.11/dist-packages (from GLiNER) (0.28.1)\n",
            "Requirement already satisfied: tqdm in /usr/local/lib/python3.11/dist-packages (from GLiNER) (4.67.1)\n",
            "Requirement already satisfied: onnxruntime in /usr/local/lib/python3.11/dist-packages (from GLiNER) (1.20.1)\n",
            "Requirement already satisfied: sentencepiece in /usr/local/lib/python3.11/dist-packages (from GLiNER) (0.2.0)\n",
            "Requirement already satisfied: filelock in /usr/local/lib/python3.11/dist-packages (from huggingface_hub>=0.21.4->GLiNER) (3.17.0)\n",
            "Requirement already satisfied: fsspec>=2023.5.0 in /usr/local/lib/python3.11/dist-packages (from huggingface_hub>=0.21.4->GLiNER) (2024.10.0)\n",
            "Requirement already satisfied: packaging>=20.9 in /usr/local/lib/python3.11/dist-packages (from huggingface_hub>=0.21.4->GLiNER) (24.2)\n",
            "Requirement already satisfied: pyyaml>=5.1 in /usr/local/lib/python3.11/dist-packages (from huggingface_hub>=0.21.4->GLiNER) (6.0.2)\n",
            "Requirement already satisfied: requests in /usr/local/lib/python3.11/dist-packages (from huggingface_hub>=0.21.4->GLiNER) (2.32.3)\n",
            "Requirement already satisfied: typing-extensions>=3.7.4.3 in /usr/local/lib/python3.11/dist-packages (from huggingface_hub>=0.21.4->GLiNER) (4.12.2)\n",
            "Requirement already satisfied: networkx in /usr/local/lib/python3.11/dist-packages (from torch>=2.0.0->GLiNER) (3.4.2)\n",
            "Requirement already satisfied: jinja2 in /usr/local/lib/python3.11/dist-packages (from torch>=2.0.0->GLiNER) (3.1.5)\n",
            "Requirement already satisfied: nvidia-cuda-nvrtc-cu12==12.4.127 in /usr/local/lib/python3.11/dist-packages (from torch>=2.0.0->GLiNER) (12.4.127)\n",
            "Requirement already satisfied: nvidia-cuda-runtime-cu12==12.4.127 in /usr/local/lib/python3.11/dist-packages (from torch>=2.0.0->GLiNER) (12.4.127)\n",
            "Requirement already satisfied: nvidia-cuda-cupti-cu12==12.4.127 in /usr/local/lib/python3.11/dist-packages (from torch>=2.0.0->GLiNER) (12.4.127)\n",
            "Requirement already satisfied: nvidia-cudnn-cu12==9.1.0.70 in /usr/local/lib/python3.11/dist-packages (from torch>=2.0.0->GLiNER) (9.1.0.70)\n",
            "Requirement already satisfied: nvidia-cublas-cu12==12.4.5.8 in /usr/local/lib/python3.11/dist-packages (from torch>=2.0.0->GLiNER) (12.4.5.8)\n",
            "Requirement already satisfied: nvidia-cufft-cu12==11.2.1.3 in /usr/local/lib/python3.11/dist-packages (from torch>=2.0.0->GLiNER) (11.2.1.3)\n",
            "Requirement already satisfied: nvidia-curand-cu12==10.3.5.147 in /usr/local/lib/python3.11/dist-packages (from torch>=2.0.0->GLiNER) (10.3.5.147)\n",
            "Requirement already satisfied: nvidia-cusolver-cu12==11.6.1.9 in /usr/local/lib/python3.11/dist-packages (from torch>=2.0.0->GLiNER) (11.6.1.9)\n",
            "Requirement already satisfied: nvidia-cusparse-cu12==12.3.1.170 in /usr/local/lib/python3.11/dist-packages (from torch>=2.0.0->GLiNER) (12.3.1.170)\n",
            "Requirement already satisfied: nvidia-nccl-cu12==2.21.5 in /usr/local/lib/python3.11/dist-packages (from torch>=2.0.0->GLiNER) (2.21.5)\n",
            "Requirement already satisfied: nvidia-nvtx-cu12==12.4.127 in /usr/local/lib/python3.11/dist-packages (from torch>=2.0.0->GLiNER) (12.4.127)\n",
            "Requirement already satisfied: nvidia-nvjitlink-cu12==12.4.127 in /usr/local/lib/python3.11/dist-packages (from torch>=2.0.0->GLiNER) (12.4.127)\n",
            "Requirement already satisfied: triton==3.1.0 in /usr/local/lib/python3.11/dist-packages (from torch>=2.0.0->GLiNER) (3.1.0)\n",
            "Requirement already satisfied: sympy==1.13.1 in /usr/local/lib/python3.11/dist-packages (from torch>=2.0.0->GLiNER) (1.13.1)\n",
            "Requirement already satisfied: mpmath<1.4,>=1.1.0 in /usr/local/lib/python3.11/dist-packages (from sympy==1.13.1->torch>=2.0.0->GLiNER) (1.3.0)\n",
            "Requirement already satisfied: numpy>=1.17 in /usr/local/lib/python3.11/dist-packages (from transformers>=4.38.2->GLiNER) (1.26.4)\n",
            "Requirement already satisfied: regex!=2019.12.17 in /usr/local/lib/python3.11/dist-packages (from transformers>=4.38.2->GLiNER) (2024.11.6)\n",
            "Requirement already satisfied: tokenizers<0.22,>=0.21 in /usr/local/lib/python3.11/dist-packages (from transformers>=4.38.2->GLiNER) (0.21.0)\n",
            "Requirement already satisfied: safetensors>=0.4.1 in /usr/local/lib/python3.11/dist-packages (from transformers>=4.38.2->GLiNER) (0.5.2)\n",
            "Requirement already satisfied: coloredlogs in /usr/local/lib/python3.11/dist-packages (from onnxruntime->GLiNER) (15.0.1)\n",
            "Requirement already satisfied: flatbuffers in /usr/local/lib/python3.11/dist-packages (from onnxruntime->GLiNER) (25.2.10)\n",
            "Requirement already satisfied: protobuf in /usr/local/lib/python3.11/dist-packages (from onnxruntime->GLiNER) (4.25.6)\n",
            "Requirement already satisfied: humanfriendly>=9.1 in /usr/local/lib/python3.11/dist-packages (from coloredlogs->onnxruntime->GLiNER) (10.0)\n",
            "Requirement already satisfied: MarkupSafe>=2.0 in /usr/local/lib/python3.11/dist-packages (from jinja2->torch>=2.0.0->GLiNER) (3.0.2)\n",
            "Requirement already satisfied: charset-normalizer<4,>=2 in /usr/local/lib/python3.11/dist-packages (from requests->huggingface_hub>=0.21.4->GLiNER) (3.4.1)\n",
            "Requirement already satisfied: idna<4,>=2.5 in /usr/local/lib/python3.11/dist-packages (from requests->huggingface_hub>=0.21.4->GLiNER) (3.10)\n",
            "Requirement already satisfied: urllib3<3,>=1.21.1 in /usr/local/lib/python3.11/dist-packages (from requests->huggingface_hub>=0.21.4->GLiNER) (2.3.0)\n",
            "Requirement already satisfied: certifi>=2017.4.17 in /usr/local/lib/python3.11/dist-packages (from requests->huggingface_hub>=0.21.4->GLiNER) (2025.1.31)\n"
          ]
        }
      ]
    },
    {
      "cell_type": "code",
      "source": [
        "from gliner import GLiNER"
      ],
      "metadata": {
        "id": "KJ7yjmYPX8XD"
      },
      "execution_count": 2,
      "outputs": []
    },
    {
      "cell_type": "code",
      "source": [
        "import datetime\n",
        "import logging\n",
        "import re\n",
        "from itertools import chain\n",
        "import torch\n",
        "from pyspark.sql import SparkSession, functions as F\n",
        "from pyspark.sql.types import *\n",
        "from inflect import engine\n",
        "import pandas as pd\n",
        "from gliner import GLiNER\n",
        "#from pyspark.sql.window import Window\n",
        "\n",
        "# Initialize inflect engine\n",
        "p = engine()\n",
        "\n",
        "# Initialize logging\n",
        "# Configure logging with datetime\n",
        "logging.basicConfig(\n",
        "    format='%(asctime)s - %(levelname)s - %(message)s',\n",
        "    level=logging.INFO,\n",
        "    datefmt='%Y-%m-%d %H:%M:%S'\n",
        ")\n",
        "logger = logging.getLogger(__name__)\n"
      ],
      "metadata": {
        "id": "J7UJJcF_TwXd"
      },
      "execution_count": 3,
      "outputs": []
    },
    {
      "cell_type": "code",
      "source": [
        "# Initialize Spark session\n",
        "#spark = SparkSession.builder.appName(\"NER_Processing\").getOrCreate()\n",
        "\n",
        "spark = SparkSession.builder \\\n",
        "       .appName(\"NER_Processing\") \\\n",
        "       .config(\"spark.driver.memory\", \"8g\") \\\n",
        "       .config(\"spark.executor.memory\", \"8g\") \\\n",
        "       .getOrCreate()"
      ],
      "metadata": {
        "id": "jzxcQdu_b7O_"
      },
      "execution_count": 4,
      "outputs": []
    },
    {
      "cell_type": "code",
      "source": [
        "# Generate more complete sample data\n",
        "sample_data = [\n",
        "    {\n",
        "        \"company_id\": \"1\",\n",
        "        \"es_ecid\": \"EC001\",\n",
        "        \"description\": \"Google is an American multinational technology company focusing on AI, cloud computing, and online advertising.\",\n",
        "        \"industry_primary\": \"Technology\",\n",
        "        \"industries\": \"Software, Internet\",\n",
        "        \"sub_industries\": \"Search Engine, Cloud Computing\",\n",
        "        \"top3_industries\": \"Technology, Advertising, AI\"\n",
        "    },\n",
        "    {\n",
        "        \"company_id\": \"2\",\n",
        "        \"es_ecid\": \"EC002\",\n",
        "        \"description\": \"Microsoft Corporation develops software and provides cloud services.\",\n",
        "        \"industry_primary\": \"Technology\",\n",
        "        \"industries\": \"Software\",\n",
        "        \"sub_industries\": \"Operating Systems, Cloud Computing\",\n",
        "        \"top3_industries\": \"Software, Cloud, Enterprise\"\n",
        "    }\n",
        "]"
      ],
      "metadata": {
        "id": "Jg9lCbdhT-Kc"
      },
      "execution_count": 5,
      "outputs": []
    },
    {
      "cell_type": "code",
      "source": [
        "# Create DataFrame with all required columns\n",
        "spark_df = spark.createDataFrame(sample_data)"
      ],
      "metadata": {
        "id": "9XBhgq3KUHK7"
      },
      "execution_count": 6,
      "outputs": []
    },
    {
      "cell_type": "code",
      "source": [
        "# Initialize logging\n",
        "#logging.basicConfig(level=logging.INFO)\n",
        "\n",
        "# Batch sizes\n",
        "batch_size = 50\n",
        "#batch_size_db = 100\n",
        "table_name = \"xyz\"\n",
        "\n",
        "# GLiNER model initialization\n",
        "try:\n",
        "    model_name = \"knowledgator/gliner-multitask-large-v0.5\"\n",
        "    model = GLiNER.from_pretrained(model_name)\n",
        "    model_name_2 = \"EmergentMethods/gliner_large_news-v2.1\"\n",
        "    model_2 = GLiNER.from_pretrained(model_name_2)\n",
        "except Exception as e:\n",
        "    logger.error(f\"Error loading models: {e}\")\n",
        "    raise"
      ],
      "metadata": {
        "colab": {
          "base_uri": "https://localhost:8080/",
          "height": 136,
          "referenced_widgets": [
            "1eb8cc312bc84bc2a40e10ed1bb40003",
            "eea3335ecd3b43e3a150d953941de20c",
            "cfd062fb1064443fa986fc0524caf998",
            "6b565bcb1e984610bdb01cf71b16ae08",
            "7616a7098b50414a8e61bee466737815",
            "7826deaf7db442b695aab71631e92fe3",
            "f8bfd4e348d24c989916f9a0828240f3",
            "f4db3a9aa15244a0b6fadcf5cc6044e7",
            "74a108dd8b3a4605a5745209c96ba0a1",
            "56296b3bb54e4afdb8f7c0fe3edba7cc",
            "9f21158d457047cf9cdab5a3d6b4e524",
            "2ee9c136f9ff42fe9e979722d943d7fc",
            "769c268e82714becb615d23753a10282",
            "8b57e8f71a9a4dbb9c3780b098686574",
            "209d148b4da14cad9d2a8937a8b1ed8d",
            "9f6598bc911e46c2930c153ce097fd8b",
            "9faf42dcda11456fb4389ca7f896cfee",
            "d5ae3036f67a4e1da709d2eb0d30773c",
            "02ca62cab784461d81f9820bbf61a034",
            "dc09da24f7784e4991c76682697c3288",
            "7bbf0154ca8f4ba3b0244877e5fa1fdc",
            "e33661af09274c81a29dbb6288b81825"
          ]
        },
        "id": "9XFfLEVUVWXv",
        "outputId": "a161c863-e6e8-4705-e9bd-e3b40b9f52c4"
      },
      "execution_count": 7,
      "outputs": [
        {
          "output_type": "display_data",
          "data": {
            "text/plain": [
              "Fetching 10 files:   0%|          | 0/10 [00:00<?, ?it/s]"
            ],
            "application/vnd.jupyter.widget-view+json": {
              "version_major": 2,
              "version_minor": 0,
              "model_id": "1eb8cc312bc84bc2a40e10ed1bb40003"
            }
          },
          "metadata": {}
        },
        {
          "output_type": "display_data",
          "data": {
            "text/plain": [
              "Fetching 8 files:   0%|          | 0/8 [00:00<?, ?it/s]"
            ],
            "application/vnd.jupyter.widget-view+json": {
              "version_major": 2,
              "version_minor": 0,
              "model_id": "2ee9c136f9ff42fe9e979722d943d7fc"
            }
          },
          "metadata": {}
        },
        {
          "output_type": "stream",
          "name": "stderr",
          "text": [
            "/usr/local/lib/python3.11/dist-packages/transformers/convert_slow_tokenizer.py:561: UserWarning: The sentencepiece tokenizer that you are converting to a fast tokenizer uses the byte fallback option which is not implemented in the fast tokenizers. In practice this means that the fast version of the tokenizer can produce unknown tokens whereas the sentencepiece version would have converted these unknown tokens into a sequence of byte tokens matching the original piece of text.\n",
            "  warnings.warn(\n"
          ]
        }
      ]
    },
    {
      "cell_type": "code",
      "source": [
        "# Labels for NER\n",
        "labels = {\n",
        "    \"year started\": None,\n",
        "    \"product\": None,\n",
        "    \"brand\": None,\n",
        "    \"business categories\": None,\n",
        "    \"business sub categories\": None,\n",
        "    \"industry\": None,\n",
        "    \"business services\": None,\n",
        "    \"offer\": None,\n",
        "}\n",
        "\n",
        "# Schema definition\n",
        "ner_schema = StructType([\n",
        "    StructField(\"product\", StringType(), True),\n",
        "    StructField(\"brand\", StringType(), True),\n",
        "    StructField(\"business_categories\", StringType(), True),\n",
        "    StructField(\"business_sub_categories\", StringType(), True),\n",
        "    StructField(\"year_started\", StringType(), True),\n",
        "    StructField(\"industry\", StringType(), True),\n",
        "    StructField(\"business_services\", StringType(), True),\n",
        "    StructField(\"offer\", StringType(), True)\n",
        "])"
      ],
      "metadata": {
        "id": "qJB2eGOFZvS3"
      },
      "execution_count": 8,
      "outputs": []
    },
    {
      "cell_type": "code",
      "source": [
        "def clean_entity(entity):\n",
        "    try:\n",
        "        if entity['label'] == 'year started':\n",
        "            match = re.search(r'\\b(18|19|20)\\d{2}\\b', entity['text'])\n",
        "            entity['text'] = match.group(0) if match else ''\n",
        "        elif entity['label'] not in ['brand']:\n",
        "            entity['text'] = re.sub(r'[^a-zA-Z\\s]', '', entity['text'])\n",
        "            entity['text'] = p.singular_noun(entity['text']) or entity['text']\n",
        "    except Exception as e:\n",
        "        logger.error(f\"Error cleaning entity: {e}\")\n",
        "    return entity"
      ],
      "metadata": {
        "id": "MF0CX9g0jomx"
      },
      "execution_count": 9,
      "outputs": []
    },
    {
      "cell_type": "code",
      "source": [
        "def extract_ner_features(text):\n",
        "    if not text or len(str(text)) < 50:\n",
        "        logger.warning(f\"Skipping text with length < 50 characters\")\n",
        "        return {}\n",
        "\n",
        "    information = {}\n",
        "    entity_sets = {}\n",
        "\n",
        "    try:\n",
        "        with torch.no_grad():\n",
        "            entities = model.predict_entities(text, labels, threshold=0.54)\n",
        "            entities_2 = model_2.predict_entities(text, labels, threshold=0.7)\n",
        "            entities = sorted(\n",
        "                (clean_entity(entity) for entity in chain(entities, entities_2)),\n",
        "                key=lambda k: (k['label'], -k['score'])\n",
        "            )\n",
        "\n",
        "            for entity in entities:\n",
        "                label = entity[\"label\"]\n",
        "                text = entity[\"text\"]\n",
        "\n",
        "                if label == 'brand':\n",
        "                    text = text.replace('brands', '').replace('brand', '').strip()\n",
        "                elif label == 'industry':\n",
        "                    text = text.lower().replace('industry', '').replace('industries', '').strip()\n",
        "                elif label == 'product':\n",
        "                    text = text.lower().replace('products', '').replace('product', '').strip()\n",
        "\n",
        "                if label not in entity_sets:\n",
        "                    entity_sets[label] = set()\n",
        "                entity_sets[label].add(text)\n",
        "\n",
        "                if label == \"year started\" and \"year started\" not in information:\n",
        "                    information[\"year started\"] = text\n",
        "\n",
        "                # Combine entities with delimiter\n",
        "                if label not in entity_sets:\n",
        "                    entity_sets[label] = set()\n",
        "                entity_sets[label].add(text)\n",
        "\n",
        "            for field in labels.keys():\n",
        "                if field in entity_sets:\n",
        "                    information[field.replace(\" \", \"_\")] = \" | \".join(entity_sets[field])\n",
        "\n",
        "    except Exception as e:\n",
        "        logger.error(f\"Error in NER processing: {e}\")\n",
        "\n",
        "    return information"
      ],
      "metadata": {
        "id": "_j9HT3zVVUTh"
      },
      "execution_count": 12,
      "outputs": []
    },
    {
      "cell_type": "markdown",
      "source": [
        "'''\n",
        "            # Combine entities with delimiter\n",
        "            if \"product\" in entity_sets:\n",
        "                information[\"product\"] = \" | \".join(entity_sets[\"product\"])\n",
        "            if \"brand\" in entity_sets:\n",
        "                information[\"brand\"] = \" | \".join(entity_sets[\"brand\"])\n",
        "            if \"business categories\" in entity_sets:\n",
        "                information[\"business_categories\"] = \" | \".join(entity_sets[\"business categories\"])\n",
        "            if \"business sub categories\" in entity_sets:\n",
        "                information[\"business_sub_categories\"] = \" | \".join(entity_sets[\"business sub categories\"])\n",
        "            if \"industry\" in entity_sets:\n",
        "                information[\"industry\"] = \" | \".join(entity_sets[\"industry\"])\n",
        "            if \"business services\" in entity_sets:\n",
        "                information[\"business_services\"] = \" | \".join(entity_sets[\"business services\"])\n",
        "            if \"offer\" in entity_sets:\n",
        "                information[\"offer\"] = \" | \".join(entity_sets[\"offer\"])\n",
        "'''"
      ],
      "metadata": {
        "id": "Y72bIz1hpGYF"
      }
    },
    {
      "cell_type": "code",
      "source": [
        "def process_data():\n",
        "    # Create DataFrame\n",
        "    spark_df = spark.createDataFrame(sample_data)\n",
        "\n",
        "    # Filter descriptions\n",
        "    spark_df = spark_df.filter(F.length(\"description\") >= 50)\n",
        "\n",
        "    # Register UDF\n",
        "    extract_ner_features_udf = F.udf(extract_ner_features, ner_schema)\n",
        "\n",
        "    # Process data\n",
        "    processed_df = spark_df.withColumn(\n",
        "        \"ner_features\",\n",
        "        extract_ner_features_udf(\"description\")\n",
        "    ).select(\"*\", \"ner_features.*\").drop(\"ner_features\")\n",
        "\n",
        "    # Add missing columns and handle null values\n",
        "    required_columns = [\n",
        "        'company_id', 'es_ecid', 'description', 'industry_primary', 'industries',\n",
        "        'sub_industries', 'top3_industries', 'year_started', 'product', 'brand',\n",
        "        'industry', 'business_categories', 'business_sub_categories', 'business_services', 'offer'\n",
        "    ]\n",
        "\n",
        "    for column in required_columns:\n",
        "        if column not in processed_df.columns:\n",
        "            processed_df = processed_df.withColumn(column, F.lit(\"\"))\n",
        "\n",
        "    # Cleanse the NER responses before loading/printing\n",
        "    final_df = (processed_df\n",
        "        .select(required_columns)\n",
        "        .na.fill(\"\")\n",
        "        .replace({\"nan\": \"\", \"None\": \"\"})\n",
        "    )\n",
        "\n",
        "    return final_df"
      ],
      "metadata": {
        "id": "cbGe8BAKUOJw"
      },
      "execution_count": 13,
      "outputs": []
    },
    {
      "cell_type": "code",
      "source": [
        "# Main execution\n",
        "if __name__ == \"__main__\":\n",
        "    logger.info(f\"Starting NER processing at: {datetime.datetime.now()}\")\n",
        "\n",
        "    try:\n",
        "        result_df = process_data()\n",
        "\n",
        "        # Convert to Pandas for display\n",
        "        pandas_df = result_df.toPandas()\n",
        "\n",
        "        logger.info(\"\\nFinal DataFrame:\")\n",
        "        print(pandas_df.to_string())\n",
        "\n",
        "    except Exception as e:\n",
        "        logger.error(f\"Error in main execution: {e}\")\n",
        "\n",
        "    logger.info(f\"Processing completed at: {datetime.datetime.now()}\")"
      ],
      "metadata": {
        "id": "PVApiNYWUQo4"
      },
      "execution_count": null,
      "outputs": []
    },
    {
      "cell_type": "code",
      "source": [
        "# Debug output\n",
        "print(\"\\nProcessed DataFrame Schema:\")\n",
        "final_df.printSchema()"
      ],
      "metadata": {
        "colab": {
          "base_uri": "https://localhost:8080/"
        },
        "id": "29AxWJF6UT09",
        "outputId": "74570ccb-0387-4ba3-a854-f31bc29ba4b0"
      },
      "execution_count": 21,
      "outputs": [
        {
          "output_type": "stream",
          "name": "stdout",
          "text": [
            "\n",
            "Processed DataFrame Schema:\n",
            "root\n",
            " |-- company_id: string (nullable = false)\n",
            " |-- es_ecid: string (nullable = false)\n",
            " |-- description: string (nullable = false)\n",
            " |-- industry_primary: string (nullable = false)\n",
            " |-- industries: string (nullable = false)\n",
            " |-- sub_industries: string (nullable = false)\n",
            " |-- top3_industries: string (nullable = false)\n",
            " |-- year_started: string (nullable = false)\n",
            " |-- product: string (nullable = false)\n",
            " |-- brand: string (nullable = false)\n",
            " |-- industry: string (nullable = false)\n",
            " |-- business_categories: string (nullable = false)\n",
            " |-- business_sub_categories: string (nullable = false)\n",
            " |-- business_services: string (nullable = false)\n",
            " |-- offer: string (nullable = false)\n",
            "\n"
          ]
        }
      ]
    },
    {
      "cell_type": "code",
      "source": [
        "print(\"\\nProcessed DataFrame Content:\")\n",
        "final_df.show(truncate=False)"
      ],
      "metadata": {
        "colab": {
          "base_uri": "https://localhost:8080/"
        },
        "id": "AqCs7BGPUXU8",
        "outputId": "7ce1e819-8b4b-4cd6-be6c-018a3d62c0d3"
      },
      "execution_count": 22,
      "outputs": [
        {
          "output_type": "stream",
          "name": "stdout",
          "text": [
            "\n",
            "Processed DataFrame Content:\n",
            "+----------+-------+---------------------------------------------------------------------------------------------------------------+----------------+------------------+----------------------------------+---------------------------+------------+-------------------------------+---------+--------+-------------------+-----------------------+-----------------+-----+\n",
            "|company_id|es_ecid|description                                                                                                    |industry_primary|industries        |sub_industries                    |top3_industries            |year_started|product                        |brand    |industry|business_categories|business_sub_categories|business_services|offer|\n",
            "+----------+-------+---------------------------------------------------------------------------------------------------------------+----------------+------------------+----------------------------------+---------------------------+------------+-------------------------------+---------+--------+-------------------+-----------------------+-----------------+-----+\n",
            "|1         |EC001  |Google is an American multinational technology company focusing on AI, cloud computing, and online advertising.|Technology      |Software, Internet|Search Engine, Cloud Computing    |Technology, Advertising, AI|1998        |search engine | cloud computing|Google   |        |Technology         |Internet Services      |                 |     |\n",
            "|2         |EC002  |Microsoft Corporation develops software and provides cloud services.                                           |Technology      |Software          |Operating Systems, Cloud Computing|Software, Cloud, Enterprise|1975        |Windows | Office               |Microsoft|        |Software           |Operating Systems      |                 |     |\n",
            "+----------+-------+---------------------------------------------------------------------------------------------------------------+----------------+------------------+----------------------------------+---------------------------+------------+-------------------------------+---------+--------+-------------------+-----------------------+-----------------+-----+\n",
            "\n"
          ]
        }
      ]
    },
    {
      "cell_type": "code",
      "source": [
        "print(\"End time: \", datetime.datetime.now())"
      ],
      "metadata": {
        "colab": {
          "base_uri": "https://localhost:8080/"
        },
        "id": "d-TxXEYKUcZq",
        "outputId": "b4d3dabc-df3e-4c67-e185-3dafa30ff0f8"
      },
      "execution_count": 12,
      "outputs": [
        {
          "output_type": "stream",
          "name": "stdout",
          "text": [
            "End time:  2025-02-17 05:11:55.737103\n"
          ]
        }
      ]
    },
    {
      "cell_type": "code",
      "source": [],
      "metadata": {
        "id": "hJGKmiURUeSR"
      },
      "execution_count": null,
      "outputs": []
    }
  ]
}